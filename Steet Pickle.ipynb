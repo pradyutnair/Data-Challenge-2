{
 "cells": [
  {
   "cell_type": "markdown",
   "metadata": {},
   "source": [
    "# Imports"
   ]
  },
  {
   "cell_type": "code",
   "execution_count": 1,
   "metadata": {},
   "outputs": [],
   "source": [
    "import glob\n",
    "import os\n",
    "import pandas as pd \n",
    "import numpy as np \n",
    "import regex as re "
   ]
  },
  {
   "cell_type": "markdown",
   "metadata": {},
   "source": [
    "# Load Data"
   ]
  },
  {
   "cell_type": "code",
   "execution_count": 2,
   "metadata": {},
   "outputs": [],
   "source": [
    "# load directories of all csv files into a list\n",
    "file_paths = []\n",
    "directory = './Data/'\n",
    "for root, directories, files in os.walk(directory):\n",
    "        for filename in files:\n",
    "            # Join the two strings in order to form the full filepath.\n",
    "            if re.match(r\"(2017|2018|2019|2020|2021)\",filename):\n",
    "                filepath = os.path.join(root, filename)\n",
    "                file_paths.append(filepath)  # Add it to the list.\n",
    "\n",
    "# sort csvs by outcome, ss and street\n",
    "outcomes_dir = []\n",
    "stop_search_dir = []\n",
    "street_dir =[]\n",
    "\n",
    "for i in file_paths:\n",
    "    if i.endswith('outcomes.csv'):\n",
    "        outcomes_dir.append(i)\n",
    "    elif i.endswith('street.csv'):\n",
    "        street_dir.append(i)\n",
    "    else:\n",
    "        stop_search_dir.append(i)"
   ]
  },
  {
   "cell_type": "markdown",
   "metadata": {},
   "source": [
    "# Save csvs as pickle files"
   ]
  },
  {
   "cell_type": "code",
   "execution_count": 3,
   "metadata": {},
   "outputs": [],
   "source": [
    "def pickle_save(lst, str:str):\n",
    "    dfs = [pd.read_csv(fp) for fp in lst]\n",
    "    df = pd.concat(dfs)\n",
    "    df.to_pickle('./{}.pkl'.format(str))"
   ]
  },
  {
   "cell_type": "code",
   "execution_count": 4,
   "metadata": {},
   "outputs": [],
   "source": [
    "pickle_save(street_dir, 'street_2017_2021')"
   ]
  }
 ],
 "metadata": {
  "interpreter": {
   "hash": "b3ba2566441a7c06988d0923437866b63cedc61552a5af99d1f4fb67d367b25f"
  },
  "kernelspec": {
   "display_name": "Python 3.9.7 ('base')",
   "language": "python",
   "name": "python3"
  },
  "language_info": {
   "codemirror_mode": {
    "name": "ipython",
    "version": 3
   },
   "file_extension": ".py",
   "mimetype": "text/x-python",
   "name": "python",
   "nbconvert_exporter": "python",
   "pygments_lexer": "ipython3",
   "version": "3.9.7"
  },
  "orig_nbformat": 4
 },
 "nbformat": 4,
 "nbformat_minor": 2
}
