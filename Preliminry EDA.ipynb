{
 "cells": [
  {
   "cell_type": "markdown",
   "metadata": {},
   "source": [
    "# Imports"
   ]
  },
  {
   "cell_type": "code",
   "execution_count": 1,
   "metadata": {},
   "outputs": [
    {
     "name": "stderr",
     "output_type": "stream",
     "text": [
      "C:\\ProgramData\\Anaconda3\\lib\\site-packages\\numpy\\_distributor_init.py:30: UserWarning: loaded more than 1 DLL from .libs:\n",
      "C:\\ProgramData\\Anaconda3\\lib\\site-packages\\numpy\\.libs\\libopenblas.el2c6ple4zyw3eceviv3oxxgrn2nrfm2.gfortran-win_amd64.dll\n",
      "C:\\ProgramData\\Anaconda3\\lib\\site-packages\\numpy\\.libs\\libopenblas.GK7GX5KEQ4F6UYO3P26ULGBQYHGQO7J4.gfortran-win_amd64.dll\n",
      "  warnings.warn(\"loaded more than 1 DLL from .libs:\"\n"
     ]
    }
   ],
   "source": [
    "import glob\n",
    "import os\n",
    "import pandas as pd \n",
    "import numpy as np \n",
    "import regex as re \n",
    "import matplotlib.pyplot as plt\n",
    "import seaborn as sns\n"
   ]
  },
  {
   "cell_type": "markdown",
   "metadata": {},
   "source": [
    "# Load data"
   ]
  },
  {
   "cell_type": "code",
   "execution_count": 3,
   "metadata": {},
   "outputs": [],
   "source": [
    "df_outcomes = pd.read_pickle('./outcomes_2019_2021.pkl')\n",
    "df_ss = pd.read_pickle('./stop_search_2019_2021.pkl')\n",
    "df_street = pd.read_pickle('./street_2019_2021.pkl')"
   ]
  },
  {
   "cell_type": "markdown",
   "metadata": {},
   "source": [
    "# EDA"
   ]
  },
  {
   "cell_type": "markdown",
   "metadata": {},
   "source": [
    "### Data types"
   ]
  },
  {
   "cell_type": "code",
   "execution_count": 4,
   "metadata": {},
   "outputs": [
    {
     "name": "stdout",
     "output_type": "stream",
     "text": [
      "<class 'pandas.core.frame.DataFrame'>\n",
      "Int64Index: 12563470 entries, 0 to 3755\n",
      "Data columns (total 10 columns):\n",
      " #   Column        Dtype  \n",
      "---  ------        -----  \n",
      " 0   Crime ID      object \n",
      " 1   Month         object \n",
      " 2   Reported by   object \n",
      " 3   Falls within  object \n",
      " 4   Longitude     float64\n",
      " 5   Latitude      float64\n",
      " 6   Location      object \n",
      " 7   LSOA code     object \n",
      " 8   LSOA name     object \n",
      " 9   Outcome type  object \n",
      "dtypes: float64(2), object(8)\n",
      "memory usage: 1.0+ GB\n"
     ]
    }
   ],
   "source": [
    "df_outcomes.info()"
   ]
  },
  {
   "cell_type": "code",
   "execution_count": 5,
   "metadata": {},
   "outputs": [
    {
     "name": "stdout",
     "output_type": "stream",
     "text": [
      "<class 'pandas.core.frame.DataFrame'>\n",
      "Int64Index: 1748949 entries, 0 to 1348\n",
      "Data columns (total 15 columns):\n",
      " #   Column                                    Dtype  \n",
      "---  ------                                    -----  \n",
      " 0   Type                                      object \n",
      " 1   Date                                      object \n",
      " 2   Part of a policing operation              object \n",
      " 3   Policing operation                        float64\n",
      " 4   Latitude                                  float64\n",
      " 5   Longitude                                 float64\n",
      " 6   Gender                                    object \n",
      " 7   Age range                                 object \n",
      " 8   Self-defined ethnicity                    object \n",
      " 9   Officer-defined ethnicity                 object \n",
      " 10  Legislation                               object \n",
      " 11  Object of search                          object \n",
      " 12  Outcome                                   object \n",
      " 13  Outcome linked to object of search        object \n",
      " 14  Removal of more than just outer clothing  object \n",
      "dtypes: float64(3), object(12)\n",
      "memory usage: 213.5+ MB\n"
     ]
    }
   ],
   "source": [
    "df_ss.info()"
   ]
  },
  {
   "cell_type": "code",
   "execution_count": 6,
   "metadata": {},
   "outputs": [
    {
     "data": {
      "text/html": [
       "<div>\n",
       "<style scoped>\n",
       "    .dataframe tbody tr th:only-of-type {\n",
       "        vertical-align: middle;\n",
       "    }\n",
       "\n",
       "    .dataframe tbody tr th {\n",
       "        vertical-align: top;\n",
       "    }\n",
       "\n",
       "    .dataframe thead th {\n",
       "        text-align: right;\n",
       "    }\n",
       "</style>\n",
       "<table border=\"1\" class=\"dataframe\">\n",
       "  <thead>\n",
       "    <tr style=\"text-align: right;\">\n",
       "      <th></th>\n",
       "      <th>Crime ID</th>\n",
       "      <th>Month</th>\n",
       "      <th>Reported by</th>\n",
       "      <th>Falls within</th>\n",
       "      <th>Longitude</th>\n",
       "      <th>Latitude</th>\n",
       "      <th>Location</th>\n",
       "      <th>LSOA code</th>\n",
       "      <th>LSOA name</th>\n",
       "      <th>Outcome type</th>\n",
       "    </tr>\n",
       "  </thead>\n",
       "  <tbody>\n",
       "    <tr>\n",
       "      <th>0</th>\n",
       "      <td>78040516850e7777c41f53736ce5b91629f962eb1e11be...</td>\n",
       "      <td>2019-01</td>\n",
       "      <td>Avon and Somerset Constabulary</td>\n",
       "      <td>Avon and Somerset Constabulary</td>\n",
       "      <td>NaN</td>\n",
       "      <td>NaN</td>\n",
       "      <td>No location</td>\n",
       "      <td>NaN</td>\n",
       "      <td>NaN</td>\n",
       "      <td>Further investigation is not in the public int...</td>\n",
       "    </tr>\n",
       "    <tr>\n",
       "      <th>1</th>\n",
       "      <td>3acdf6262249ece2a458507b16340840f9f7c2fc565e75...</td>\n",
       "      <td>2019-01</td>\n",
       "      <td>Avon and Somerset Constabulary</td>\n",
       "      <td>Avon and Somerset Constabulary</td>\n",
       "      <td>NaN</td>\n",
       "      <td>NaN</td>\n",
       "      <td>No location</td>\n",
       "      <td>NaN</td>\n",
       "      <td>NaN</td>\n",
       "      <td>Unable to prosecute suspect</td>\n",
       "    </tr>\n",
       "    <tr>\n",
       "      <th>2</th>\n",
       "      <td>fbfe5fbb589cc6129278e80434c5e392e25254c6af0491...</td>\n",
       "      <td>2019-01</td>\n",
       "      <td>Avon and Somerset Constabulary</td>\n",
       "      <td>Avon and Somerset Constabulary</td>\n",
       "      <td>NaN</td>\n",
       "      <td>NaN</td>\n",
       "      <td>No location</td>\n",
       "      <td>NaN</td>\n",
       "      <td>NaN</td>\n",
       "      <td>Offender given a caution</td>\n",
       "    </tr>\n",
       "    <tr>\n",
       "      <th>3</th>\n",
       "      <td>08906ba76906e627b949954e4394b4c44c302d51e777df...</td>\n",
       "      <td>2019-01</td>\n",
       "      <td>Avon and Somerset Constabulary</td>\n",
       "      <td>Avon and Somerset Constabulary</td>\n",
       "      <td>-2.599081</td>\n",
       "      <td>51.502517</td>\n",
       "      <td>On or near WESTLEIGH ROAD</td>\n",
       "      <td>E01014689</td>\n",
       "      <td>Bristol 002B</td>\n",
       "      <td>Unable to prosecute suspect</td>\n",
       "    </tr>\n",
       "    <tr>\n",
       "      <th>4</th>\n",
       "      <td>992ec9c65bf8cace7709c0f16cd956bccd5d05350b6474...</td>\n",
       "      <td>2019-01</td>\n",
       "      <td>Avon and Somerset Constabulary</td>\n",
       "      <td>Avon and Somerset Constabulary</td>\n",
       "      <td>NaN</td>\n",
       "      <td>NaN</td>\n",
       "      <td>No location</td>\n",
       "      <td>NaN</td>\n",
       "      <td>NaN</td>\n",
       "      <td>Investigation complete; no suspect identified</td>\n",
       "    </tr>\n",
       "  </tbody>\n",
       "</table>\n",
       "</div>"
      ],
      "text/plain": [
       "                                            Crime ID    Month  \\\n",
       "0  78040516850e7777c41f53736ce5b91629f962eb1e11be...  2019-01   \n",
       "1  3acdf6262249ece2a458507b16340840f9f7c2fc565e75...  2019-01   \n",
       "2  fbfe5fbb589cc6129278e80434c5e392e25254c6af0491...  2019-01   \n",
       "3  08906ba76906e627b949954e4394b4c44c302d51e777df...  2019-01   \n",
       "4  992ec9c65bf8cace7709c0f16cd956bccd5d05350b6474...  2019-01   \n",
       "\n",
       "                      Reported by                    Falls within  Longitude  \\\n",
       "0  Avon and Somerset Constabulary  Avon and Somerset Constabulary        NaN   \n",
       "1  Avon and Somerset Constabulary  Avon and Somerset Constabulary        NaN   \n",
       "2  Avon and Somerset Constabulary  Avon and Somerset Constabulary        NaN   \n",
       "3  Avon and Somerset Constabulary  Avon and Somerset Constabulary  -2.599081   \n",
       "4  Avon and Somerset Constabulary  Avon and Somerset Constabulary        NaN   \n",
       "\n",
       "    Latitude                   Location  LSOA code     LSOA name  \\\n",
       "0        NaN                No location        NaN           NaN   \n",
       "1        NaN                No location        NaN           NaN   \n",
       "2        NaN                No location        NaN           NaN   \n",
       "3  51.502517  On or near WESTLEIGH ROAD  E01014689  Bristol 002B   \n",
       "4        NaN                No location        NaN           NaN   \n",
       "\n",
       "                                        Outcome type  \n",
       "0  Further investigation is not in the public int...  \n",
       "1                        Unable to prosecute suspect  \n",
       "2                           Offender given a caution  \n",
       "3                        Unable to prosecute suspect  \n",
       "4      Investigation complete; no suspect identified  "
      ]
     },
     "execution_count": 6,
     "metadata": {},
     "output_type": "execute_result"
    }
   ],
   "source": [
    "df_outcomes.head()"
   ]
  },
  {
   "cell_type": "code",
   "execution_count": 7,
   "metadata": {},
   "outputs": [
    {
     "name": "stdout",
     "output_type": "stream",
     "text": [
      "<class 'pandas.core.frame.DataFrame'>\n",
      "Int64Index: 18905520 entries, 0 to 4167\n",
      "Data columns (total 12 columns):\n",
      " #   Column                 Dtype  \n",
      "---  ------                 -----  \n",
      " 0   Crime ID               object \n",
      " 1   Month                  object \n",
      " 2   Reported by            object \n",
      " 3   Falls within           object \n",
      " 4   Longitude              float64\n",
      " 5   Latitude               float64\n",
      " 6   Location               object \n",
      " 7   LSOA code              object \n",
      " 8   LSOA name              object \n",
      " 9   Crime type             object \n",
      " 10  Last outcome category  object \n",
      " 11  Context                float64\n",
      "dtypes: float64(3), object(9)\n",
      "memory usage: 1.8+ GB\n"
     ]
    }
   ],
   "source": [
    "df_street.info()"
   ]
  },
  {
   "cell_type": "markdown",
   "metadata": {},
   "source": [
    "### Missing values"
   ]
  },
  {
   "cell_type": "code",
   "execution_count": null,
   "metadata": {},
   "outputs": [],
   "source": [
    "def perc_missing_values(df):\n",
    "    print(df.isnull().sum().sum()/df.count(axis=0, level=None, numeric_only=False).sum() * 100)"
   ]
  },
  {
   "cell_type": "code",
   "execution_count": null,
   "metadata": {},
   "outputs": [],
   "source": [
    "perc_missing_values(df_outcomes)"
   ]
  },
  {
   "cell_type": "code",
   "execution_count": null,
   "metadata": {},
   "outputs": [],
   "source": [
    "perc_missing_values(df_ss)"
   ]
  },
  {
   "cell_type": "code",
   "execution_count": null,
   "metadata": {},
   "outputs": [],
   "source": [
    "perc_missing_values(df_street)"
   ]
  },
  {
   "cell_type": "markdown",
   "metadata": {},
   "source": [
    "#### 29.4 % of values in the concatenated `Stop and Search` df are missing, compared to 15.8% for the `Street` and 0.9% for the `Outcomes` datasets"
   ]
  },
  {
   "cell_type": "code",
   "execution_count": null,
   "metadata": {},
   "outputs": [],
   "source": [
    "# stop-and-search \n",
    "pd.DataFrame(df_ss.isnull().sum())"
   ]
  },
  {
   "cell_type": "code",
   "execution_count": null,
   "metadata": {},
   "outputs": [],
   "source": [
    "# outcomes\n",
    "pd.DataFrame(df_outcomes.isnull().sum())"
   ]
  },
  {
   "cell_type": "code",
   "execution_count": null,
   "metadata": {},
   "outputs": [],
   "source": [
    "# street\n",
    "pd.DataFrame(df_street.isnull().sum())"
   ]
  },
  {
   "cell_type": "markdown",
   "metadata": {},
   "source": [
    "#### The  `Context` column is not relevant and can be dropped from the `Street` dataset. Other columns/ rows have not yet been dropped in case they are required for further analysis later. "
   ]
  },
  {
   "cell_type": "code",
   "execution_count": null,
   "metadata": {},
   "outputs": [],
   "source": [
    "df_street = df_street.drop('Context',axis=1)"
   ]
  },
  {
   "cell_type": "markdown",
   "metadata": {},
   "source": [
    "### Distributions"
   ]
  },
  {
   "cell_type": "code",
   "execution_count": null,
   "metadata": {},
   "outputs": [],
   "source": [
    "crime_df = pd.DataFrame(df_street['Crime type'].value_counts()).reset_index().rename(columns={'index':'Crime type', 'Crime type':'Counts'})"
   ]
  },
  {
   "cell_type": "markdown",
   "metadata": {},
   "source": [
    "#### Police forces"
   ]
  },
  {
   "cell_type": "code",
   "execution_count": null,
   "metadata": {},
   "outputs": [],
   "source": [
    "df_outcomes['Reported by'].unique()"
   ]
  },
  {
   "cell_type": "code",
   "execution_count": null,
   "metadata": {},
   "outputs": [],
   "source": [
    "plt.figure(figsize=(18,8))\n",
    "sns.barplot(x='Crime type', y='Counts', data=crime_df)\n",
    "plt.title('Distribution of crime types',weight='bold',size=14)\n",
    "plt.xticks(rotation=60);"
   ]
  },
  {
   "cell_type": "markdown",
   "metadata": {},
   "source": [
    "#### Heatmap of crimes"
   ]
  },
  {
   "cell_type": "code",
   "execution_count": null,
   "metadata": {},
   "outputs": [],
   "source": [
    "df_outcomes.Month = pd.to_datetime(df_outcomes.Month)\n",
    "time_df = pd.DataFrame(df_outcomes.groupby([df_outcomes.Month.dt.year, df_outcomes.Month.dt.month]).describe()['Longitude']['count'])\n",
    "\n",
    "x_labels=['January', 'February', 'March', 'April', 'May', 'June', 'July',\n",
    "          'August', 'September', 'October', 'November', 'December']\n",
    "\n",
    "plt.figure(figsize=(20,10))\n",
    "heat = sns.heatmap(time_df.unstack(), xticklabels=x_labels, cmap='magma');\n",
    "plt.yticks(rotation=0) \n",
    "heat.set_title('Heat Map of Crimes', size=16, weight=\"bold\")\n",
    "heat.set_xlabel('Month of the Year',size=12,weight='bold')\n",
    "heat.set_ylabel('Year',size=12,weight='bold')\n",
    "cbar = heat.collections[0].colorbar\n",
    "cbar.set_label('Number of Crimes', labelpad=40, rotation=270);"
   ]
  }
 ],
 "metadata": {
  "interpreter": {
   "hash": "b3ba2566441a7c06988d0923437866b63cedc61552a5af99d1f4fb67d367b25f"
  },
  "kernelspec": {
   "display_name": "Python 3.9.7 ('base')",
   "language": "python",
   "name": "python3"
  },
  "language_info": {
   "codemirror_mode": {
    "name": "ipython",
    "version": 3
   },
   "file_extension": ".py",
   "mimetype": "text/x-python",
   "name": "python",
   "nbconvert_exporter": "python",
   "pygments_lexer": "ipython3",
   "version": "3.9.7"
  },
  "orig_nbformat": 4
 },
 "nbformat": 4,
 "nbformat_minor": 2
}
