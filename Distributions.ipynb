{
 "cells": [
  {
   "cell_type": "code",
   "execution_count": 5,
   "metadata": {},
   "outputs": [],
   "source": [
    "import pandas as pd\n",
    "# import folium\n",
    "\n",
    "data = pd.read_csv('./dataset/2021-12/2021-12-city-of-london-street.csv')\n",
    "outcome = pd.read_csv('./dataset/2021-12/2021-12-city-of-london-outcomes.csv')\n",
    "force = pd.read_excel('./dataset/MPS Use of Force - FY20-21.xlsx')\n",
    "strength = pd.read_csv('./dataset/Police_Force_Strength (1).csv')"
   ]
  },
  {
   "cell_type": "code",
   "execution_count": 10,
   "metadata": {},
   "outputs": [],
   "source": [
    "#!pip install folium\n",
    "import matplotlib.pyplot as plt"
   ]
  },
  {
   "cell_type": "code",
   "execution_count": 7,
   "metadata": {},
   "outputs": [
    {
     "data": {
      "text/html": [
       "<div>\n",
       "<style scoped>\n",
       "    .dataframe tbody tr th:only-of-type {\n",
       "        vertical-align: middle;\n",
       "    }\n",
       "\n",
       "    .dataframe tbody tr th {\n",
       "        vertical-align: top;\n",
       "    }\n",
       "\n",
       "    .dataframe thead th {\n",
       "        text-align: right;\n",
       "    }\n",
       "</style>\n",
       "<table border=\"1\" class=\"dataframe\">\n",
       "  <thead>\n",
       "    <tr style=\"text-align: right;\">\n",
       "      <th></th>\n",
       "      <th>Crime ID</th>\n",
       "      <th>Month</th>\n",
       "      <th>Reported by</th>\n",
       "      <th>Falls within</th>\n",
       "      <th>Longitude</th>\n",
       "      <th>Latitude</th>\n",
       "      <th>Location</th>\n",
       "      <th>LSOA code</th>\n",
       "      <th>LSOA name</th>\n",
       "      <th>Crime type</th>\n",
       "      <th>Last outcome category</th>\n",
       "      <th>Context</th>\n",
       "    </tr>\n",
       "  </thead>\n",
       "  <tbody>\n",
       "    <tr>\n",
       "      <th>0</th>\n",
       "      <td>ee6b046228acfc76dc139bb6d938dd7fd42b618b798e18...</td>\n",
       "      <td>2021-12</td>\n",
       "      <td>City of London Police</td>\n",
       "      <td>City of London Police</td>\n",
       "      <td>-0.106453</td>\n",
       "      <td>51.518207</td>\n",
       "      <td>On or near Charterhouse Street</td>\n",
       "      <td>E01000916</td>\n",
       "      <td>Camden 027B</td>\n",
       "      <td>Theft from the person</td>\n",
       "      <td>Under investigation</td>\n",
       "      <td>NaN</td>\n",
       "    </tr>\n",
       "    <tr>\n",
       "      <th>1</th>\n",
       "      <td>3f8f7ac887eaf9211b0ae601304b26722a8d19bbb5ba1b...</td>\n",
       "      <td>2021-12</td>\n",
       "      <td>City of London Police</td>\n",
       "      <td>City of London Police</td>\n",
       "      <td>-0.109640</td>\n",
       "      <td>51.520624</td>\n",
       "      <td>On or near Leather Lane</td>\n",
       "      <td>E01000916</td>\n",
       "      <td>Camden 027B</td>\n",
       "      <td>Violence and sexual offences</td>\n",
       "      <td>Under investigation</td>\n",
       "      <td>NaN</td>\n",
       "    </tr>\n",
       "    <tr>\n",
       "      <th>2</th>\n",
       "      <td>5eebbeff9942cc3a63e938967c646d47b6680552693afd...</td>\n",
       "      <td>2021-12</td>\n",
       "      <td>City of London Police</td>\n",
       "      <td>City of London Police</td>\n",
       "      <td>-0.111497</td>\n",
       "      <td>51.518226</td>\n",
       "      <td>On or near Pedestrian Subway</td>\n",
       "      <td>E01000914</td>\n",
       "      <td>Camden 028B</td>\n",
       "      <td>Other theft</td>\n",
       "      <td>Under investigation</td>\n",
       "      <td>NaN</td>\n",
       "    </tr>\n",
       "    <tr>\n",
       "      <th>3</th>\n",
       "      <td>NaN</td>\n",
       "      <td>2021-12</td>\n",
       "      <td>City of London Police</td>\n",
       "      <td>City of London Police</td>\n",
       "      <td>-0.095914</td>\n",
       "      <td>51.520348</td>\n",
       "      <td>On or near Beech Street</td>\n",
       "      <td>E01000001</td>\n",
       "      <td>City of London 001A</td>\n",
       "      <td>Anti-social behaviour</td>\n",
       "      <td>NaN</td>\n",
       "      <td>NaN</td>\n",
       "    </tr>\n",
       "    <tr>\n",
       "      <th>4</th>\n",
       "      <td>NaN</td>\n",
       "      <td>2021-12</td>\n",
       "      <td>City of London Police</td>\n",
       "      <td>City of London Police</td>\n",
       "      <td>-0.095960</td>\n",
       "      <td>51.517534</td>\n",
       "      <td>On or near London Wall</td>\n",
       "      <td>E01000001</td>\n",
       "      <td>City of London 001A</td>\n",
       "      <td>Anti-social behaviour</td>\n",
       "      <td>NaN</td>\n",
       "      <td>NaN</td>\n",
       "    </tr>\n",
       "  </tbody>\n",
       "</table>\n",
       "</div>"
      ],
      "text/plain": [
       "                                            Crime ID    Month  \\\n",
       "0  ee6b046228acfc76dc139bb6d938dd7fd42b618b798e18...  2021-12   \n",
       "1  3f8f7ac887eaf9211b0ae601304b26722a8d19bbb5ba1b...  2021-12   \n",
       "2  5eebbeff9942cc3a63e938967c646d47b6680552693afd...  2021-12   \n",
       "3                                                NaN  2021-12   \n",
       "4                                                NaN  2021-12   \n",
       "\n",
       "             Reported by           Falls within  Longitude   Latitude  \\\n",
       "0  City of London Police  City of London Police  -0.106453  51.518207   \n",
       "1  City of London Police  City of London Police  -0.109640  51.520624   \n",
       "2  City of London Police  City of London Police  -0.111497  51.518226   \n",
       "3  City of London Police  City of London Police  -0.095914  51.520348   \n",
       "4  City of London Police  City of London Police  -0.095960  51.517534   \n",
       "\n",
       "                         Location  LSOA code            LSOA name  \\\n",
       "0  On or near Charterhouse Street  E01000916          Camden 027B   \n",
       "1         On or near Leather Lane  E01000916          Camden 027B   \n",
       "2    On or near Pedestrian Subway  E01000914          Camden 028B   \n",
       "3         On or near Beech Street  E01000001  City of London 001A   \n",
       "4          On or near London Wall  E01000001  City of London 001A   \n",
       "\n",
       "                     Crime type Last outcome category  Context  \n",
       "0         Theft from the person   Under investigation      NaN  \n",
       "1  Violence and sexual offences   Under investigation      NaN  \n",
       "2                   Other theft   Under investigation      NaN  \n",
       "3         Anti-social behaviour                   NaN      NaN  \n",
       "4         Anti-social behaviour                   NaN      NaN  "
      ]
     },
     "execution_count": 7,
     "metadata": {},
     "output_type": "execute_result"
    }
   ],
   "source": [
    "data.head()"
   ]
  },
  {
   "cell_type": "code",
   "execution_count": 34,
   "metadata": {},
   "outputs": [
    {
     "data": {
      "text/html": [
       "<div>\n",
       "<style scoped>\n",
       "    .dataframe tbody tr th:only-of-type {\n",
       "        vertical-align: middle;\n",
       "    }\n",
       "\n",
       "    .dataframe tbody tr th {\n",
       "        vertical-align: top;\n",
       "    }\n",
       "\n",
       "    .dataframe thead th {\n",
       "        text-align: right;\n",
       "    }\n",
       "</style>\n",
       "<table border=\"1\" class=\"dataframe\">\n",
       "  <thead>\n",
       "    <tr style=\"text-align: right;\">\n",
       "      <th></th>\n",
       "      <th>IncidentDate</th>\n",
       "      <th>IncidentTime</th>\n",
       "      <th>Incident Location: Street/Highway</th>\n",
       "      <th>Incident Location: Public Transport</th>\n",
       "      <th>Incident Location: Retail Premises</th>\n",
       "      <th>Incident Location: Open ground (e.g. park, car park, field)</th>\n",
       "      <th>Incident Location: Licensed Premises</th>\n",
       "      <th>Incident Location: Sports or Event Stadia</th>\n",
       "      <th>Incident Location: Hospital/A&amp;E (non-mental-health setting)</th>\n",
       "      <th>Incident Location: Mental Health Setting</th>\n",
       "      <th>...</th>\n",
       "      <th>SubjectInjured</th>\n",
       "      <th>SubjectNatureOfInjury</th>\n",
       "      <th>SubjectMedOffered</th>\n",
       "      <th>SubjectMedProvided</th>\n",
       "      <th>Outcome: Made off/escaped</th>\n",
       "      <th>Outcome: Arrested</th>\n",
       "      <th>Outcome: Hospitalised</th>\n",
       "      <th>Outcome: Detained - Mental Health Act</th>\n",
       "      <th>Outcome: Fatality</th>\n",
       "      <th>Outcome: Other</th>\n",
       "    </tr>\n",
       "  </thead>\n",
       "  <tbody>\n",
       "    <tr>\n",
       "      <th>0</th>\n",
       "      <td>2020-04-01</td>\n",
       "      <td>00:25:00</td>\n",
       "      <td>Yes</td>\n",
       "      <td>No</td>\n",
       "      <td>No</td>\n",
       "      <td>No</td>\n",
       "      <td>No</td>\n",
       "      <td>No</td>\n",
       "      <td>No</td>\n",
       "      <td>No</td>\n",
       "      <td>...</td>\n",
       "      <td>No</td>\n",
       "      <td>NaN</td>\n",
       "      <td>NaN</td>\n",
       "      <td>NaN</td>\n",
       "      <td>No</td>\n",
       "      <td>Yes</td>\n",
       "      <td>No</td>\n",
       "      <td>No</td>\n",
       "      <td>No</td>\n",
       "      <td>No</td>\n",
       "    </tr>\n",
       "    <tr>\n",
       "      <th>1</th>\n",
       "      <td>2020-04-01</td>\n",
       "      <td>08:20:00</td>\n",
       "      <td>No</td>\n",
       "      <td>No</td>\n",
       "      <td>No</td>\n",
       "      <td>No</td>\n",
       "      <td>No</td>\n",
       "      <td>No</td>\n",
       "      <td>No</td>\n",
       "      <td>No</td>\n",
       "      <td>...</td>\n",
       "      <td>No</td>\n",
       "      <td>NaN</td>\n",
       "      <td>NaN</td>\n",
       "      <td>NaN</td>\n",
       "      <td>No</td>\n",
       "      <td>No</td>\n",
       "      <td>No</td>\n",
       "      <td>No</td>\n",
       "      <td>No</td>\n",
       "      <td>Yes</td>\n",
       "    </tr>\n",
       "    <tr>\n",
       "      <th>2</th>\n",
       "      <td>2020-04-01</td>\n",
       "      <td>03:15:00</td>\n",
       "      <td>No</td>\n",
       "      <td>No</td>\n",
       "      <td>No</td>\n",
       "      <td>No</td>\n",
       "      <td>No</td>\n",
       "      <td>No</td>\n",
       "      <td>No</td>\n",
       "      <td>No</td>\n",
       "      <td>...</td>\n",
       "      <td>No</td>\n",
       "      <td>NaN</td>\n",
       "      <td>NaN</td>\n",
       "      <td>NaN</td>\n",
       "      <td>No</td>\n",
       "      <td>Yes</td>\n",
       "      <td>No</td>\n",
       "      <td>No</td>\n",
       "      <td>No</td>\n",
       "      <td>No</td>\n",
       "    </tr>\n",
       "    <tr>\n",
       "      <th>3</th>\n",
       "      <td>2020-04-01</td>\n",
       "      <td>00:38:00</td>\n",
       "      <td>Yes</td>\n",
       "      <td>No</td>\n",
       "      <td>No</td>\n",
       "      <td>No</td>\n",
       "      <td>No</td>\n",
       "      <td>No</td>\n",
       "      <td>No</td>\n",
       "      <td>No</td>\n",
       "      <td>...</td>\n",
       "      <td>No</td>\n",
       "      <td>NaN</td>\n",
       "      <td>NaN</td>\n",
       "      <td>NaN</td>\n",
       "      <td>No</td>\n",
       "      <td>Yes</td>\n",
       "      <td>No</td>\n",
       "      <td>No</td>\n",
       "      <td>No</td>\n",
       "      <td>No</td>\n",
       "    </tr>\n",
       "    <tr>\n",
       "      <th>4</th>\n",
       "      <td>2020-04-01</td>\n",
       "      <td>09:43:00</td>\n",
       "      <td>No</td>\n",
       "      <td>No</td>\n",
       "      <td>No</td>\n",
       "      <td>No</td>\n",
       "      <td>No</td>\n",
       "      <td>No</td>\n",
       "      <td>No</td>\n",
       "      <td>No</td>\n",
       "      <td>...</td>\n",
       "      <td>No</td>\n",
       "      <td>NaN</td>\n",
       "      <td>NaN</td>\n",
       "      <td>NaN</td>\n",
       "      <td>No</td>\n",
       "      <td>Yes</td>\n",
       "      <td>No</td>\n",
       "      <td>No</td>\n",
       "      <td>No</td>\n",
       "      <td>No</td>\n",
       "    </tr>\n",
       "  </tbody>\n",
       "</table>\n",
       "<p>5 rows × 271 columns</p>\n",
       "</div>"
      ],
      "text/plain": [
       "  IncidentDate IncidentTime Incident Location: Street/Highway  \\\n",
       "0   2020-04-01     00:25:00                               Yes   \n",
       "1   2020-04-01     08:20:00                                No   \n",
       "2   2020-04-01     03:15:00                                No   \n",
       "3   2020-04-01     00:38:00                               Yes   \n",
       "4   2020-04-01     09:43:00                                No   \n",
       "\n",
       "  Incident Location: Public Transport Incident Location: Retail Premises  \\\n",
       "0                                  No                                 No   \n",
       "1                                  No                                 No   \n",
       "2                                  No                                 No   \n",
       "3                                  No                                 No   \n",
       "4                                  No                                 No   \n",
       "\n",
       "  Incident Location: Open ground (e.g. park, car park, field)  \\\n",
       "0                                                 No            \n",
       "1                                                 No            \n",
       "2                                                 No            \n",
       "3                                                 No            \n",
       "4                                                 No            \n",
       "\n",
       "  Incident Location: Licensed Premises  \\\n",
       "0                                   No   \n",
       "1                                   No   \n",
       "2                                   No   \n",
       "3                                   No   \n",
       "4                                   No   \n",
       "\n",
       "  Incident Location: Sports or Event Stadia  \\\n",
       "0                                        No   \n",
       "1                                        No   \n",
       "2                                        No   \n",
       "3                                        No   \n",
       "4                                        No   \n",
       "\n",
       "  Incident Location: Hospital/A&E (non-mental-health setting)  \\\n",
       "0                                                 No            \n",
       "1                                                 No            \n",
       "2                                                 No            \n",
       "3                                                 No            \n",
       "4                                                 No            \n",
       "\n",
       "  Incident Location: Mental Health Setting  ... SubjectInjured  \\\n",
       "0                                       No  ...             No   \n",
       "1                                       No  ...             No   \n",
       "2                                       No  ...             No   \n",
       "3                                       No  ...             No   \n",
       "4                                       No  ...             No   \n",
       "\n",
       "  SubjectNatureOfInjury SubjectMedOffered SubjectMedProvided  \\\n",
       "0                   NaN               NaN                NaN   \n",
       "1                   NaN               NaN                NaN   \n",
       "2                   NaN               NaN                NaN   \n",
       "3                   NaN               NaN                NaN   \n",
       "4                   NaN               NaN                NaN   \n",
       "\n",
       "  Outcome: Made off/escaped Outcome: Arrested Outcome: Hospitalised  \\\n",
       "0                        No               Yes                    No   \n",
       "1                        No                No                    No   \n",
       "2                        No               Yes                    No   \n",
       "3                        No               Yes                    No   \n",
       "4                        No               Yes                    No   \n",
       "\n",
       "  Outcome: Detained - Mental Health Act Outcome: Fatality Outcome: Other  \n",
       "0                                    No                No             No  \n",
       "1                                    No                No            Yes  \n",
       "2                                    No                No             No  \n",
       "3                                    No                No             No  \n",
       "4                                    No                No             No  \n",
       "\n",
       "[5 rows x 271 columns]"
      ]
     },
     "execution_count": 34,
     "metadata": {},
     "output_type": "execute_result"
    }
   ],
   "source": [
    "force.head()"
   ]
  },
  {
   "cell_type": "code",
   "execution_count": 16,
   "metadata": {},
   "outputs": [
    {
     "data": {
      "text/plain": [
       "Text(0.5, 1.0, 'Distribution of incidents per borough')"
      ]
     },
     "execution_count": 16,
     "metadata": {},
     "output_type": "execute_result"
    },
    {
     "data": {
      "image/png": "[encoded data removed]",
      "text/plain": [
       "<Figure size 432x288 with 1 Axes>"
      ]
     },
     "metadata": {
      "needs_background": "light"
     },
     "output_type": "display_data"
    }
   ],
   "source": [
    "force['Borough'].value_counts().plot(kind='bar')\n",
    "plt.title('',weight='bold',size=14)\n",
    "plt.title('Distribution of incidents per borough',weight='bold',size=14)\n",
    "\n"
   ]
  },
  {
   "cell_type": "code",
   "execution_count": 13,
   "metadata": {},
   "outputs": [
    {
     "data": {
      "text/plain": [
       "Text(0.5, 1.0, 'Distribution of crime types')"
      ]
     },
     "execution_count": 13,
     "metadata": {},
     "output_type": "execute_result"
    },
    {
     "data": {
      "image/png": "[encoded data removed]",
      "text/plain": [
       "<Figure size 432x288 with 1 Axes>"
      ]
     },
     "metadata": {
      "needs_background": "light"
     },
     "output_type": "display_data"
    }
   ],
   "source": [
    "publicorder = data[(data['Crime type'] == 'Anti-social behaviour') | (data['Crime type'] == 'Public order')]\n",
    "#data[data['Crime type'] == 'Public order']\n",
    "data['Crime type'].value_counts().plot(kind='bar')\n",
    "plt.title('Distribution of crime types',weight='bold',size=14)\n",
    "#plt.xticks(rotation=60);\n"
   ]
  },
  {
   "cell_type": "code",
   "execution_count": 12,
   "metadata": {},
   "outputs": [
    {
     "data": {
      "text/plain": [
       "City of London 001F    391\n",
       "City of London 001G     83\n",
       "City of London 001E     54\n",
       "City of London 001B     15\n",
       "City of London 001A     10\n",
       "Islington 022D           5\n",
       "City of London 001C      5\n",
       "Tower Hamlets 027B       4\n",
       "Tower Hamlets 015B       3\n",
       "Islington 022H           2\n",
       "Camden 027B              2\n",
       "Tower Hamlets 021F       2\n",
       "Tower Hamlets 017A       1\n",
       "Islington 023E           1\n",
       "Westminster 018B         1\n",
       "Tower Hamlets 020C       1\n",
       "Hackney 027G             1\n",
       "Camden 028B              1\n",
       "Southwark 003E           1\n",
       "Islington 023D           1\n",
       "Name: LSOA name, dtype: int64"
      ]
     },
     "execution_count": 12,
     "metadata": {},
     "output_type": "execute_result"
    }
   ],
   "source": [
    "data['LSOA name'].value_counts()"
   ]
  },
  {
   "cell_type": "code",
   "execution_count": 7,
   "metadata": {},
   "outputs": [
    {
     "data": {
      "text/html": [
       "<div>\n",
       "<style scoped>\n",
       "    .dataframe tbody tr th:only-of-type {\n",
       "        vertical-align: middle;\n",
       "    }\n",
       "\n",
       "    .dataframe tbody tr th {\n",
       "        vertical-align: top;\n",
       "    }\n",
       "\n",
       "    .dataframe thead th {\n",
       "        text-align: right;\n",
       "    }\n",
       "</style>\n",
       "<table border=\"1\" class=\"dataframe\">\n",
       "  <thead>\n",
       "    <tr style=\"text-align: right;\">\n",
       "      <th></th>\n",
       "      <th>Crime ID</th>\n",
       "      <th>Month</th>\n",
       "      <th>Reported by</th>\n",
       "      <th>Falls within</th>\n",
       "      <th>Longitude</th>\n",
       "      <th>Latitude</th>\n",
       "      <th>Location</th>\n",
       "      <th>LSOA code</th>\n",
       "      <th>LSOA name</th>\n",
       "      <th>Outcome type</th>\n",
       "    </tr>\n",
       "  </thead>\n",
       "  <tbody>\n",
       "    <tr>\n",
       "      <th>0</th>\n",
       "      <td>123172f135dc7dc8d6cd92c86fb63a4c76caa407b411ea...</td>\n",
       "      <td>2021-12</td>\n",
       "      <td>City of London Police</td>\n",
       "      <td>City of London Police</td>\n",
       "      <td>NaN</td>\n",
       "      <td>NaN</td>\n",
       "      <td>No location</td>\n",
       "      <td>NaN</td>\n",
       "      <td>NaN</td>\n",
       "      <td>Offender given a caution</td>\n",
       "    </tr>\n",
       "    <tr>\n",
       "      <th>1</th>\n",
       "      <td>3e0efa18e27daafbf23937e6ebcc86d0e6d17bb580d16a...</td>\n",
       "      <td>2021-12</td>\n",
       "      <td>City of London Police</td>\n",
       "      <td>City of London Police</td>\n",
       "      <td>NaN</td>\n",
       "      <td>NaN</td>\n",
       "      <td>No location</td>\n",
       "      <td>NaN</td>\n",
       "      <td>NaN</td>\n",
       "      <td>Suspect charged</td>\n",
       "    </tr>\n",
       "    <tr>\n",
       "      <th>2</th>\n",
       "      <td>0148f99ff00502a4ebfe6157d3a0eb211f054f9c1f7633...</td>\n",
       "      <td>2021-12</td>\n",
       "      <td>City of London Police</td>\n",
       "      <td>City of London Police</td>\n",
       "      <td>NaN</td>\n",
       "      <td>NaN</td>\n",
       "      <td>No location</td>\n",
       "      <td>NaN</td>\n",
       "      <td>NaN</td>\n",
       "      <td>Investigation complete; no suspect identified</td>\n",
       "    </tr>\n",
       "    <tr>\n",
       "      <th>3</th>\n",
       "      <td>589a7682a70c4aac2ba684a41ec95b9ee0b184c8cdacb0...</td>\n",
       "      <td>2021-12</td>\n",
       "      <td>City of London Police</td>\n",
       "      <td>City of London Police</td>\n",
       "      <td>NaN</td>\n",
       "      <td>NaN</td>\n",
       "      <td>No location</td>\n",
       "      <td>NaN</td>\n",
       "      <td>NaN</td>\n",
       "      <td>Unable to prosecute suspect</td>\n",
       "    </tr>\n",
       "    <tr>\n",
       "      <th>4</th>\n",
       "      <td>c0bd13de27933a91d6227fc5d985e1b97834c4eab1a6e6...</td>\n",
       "      <td>2021-12</td>\n",
       "      <td>City of London Police</td>\n",
       "      <td>City of London Police</td>\n",
       "      <td>-0.08154</td>\n",
       "      <td>51.510806</td>\n",
       "      <td>On or near MINCING LANE</td>\n",
       "      <td>E01032739</td>\n",
       "      <td>City of London 001F</td>\n",
       "      <td>Suspect charged</td>\n",
       "    </tr>\n",
       "  </tbody>\n",
       "</table>\n",
       "</div>"
      ],
      "text/plain": [
       "                                            Crime ID    Month  \\\n",
       "0  123172f135dc7dc8d6cd92c86fb63a4c76caa407b411ea...  2021-12   \n",
       "1  3e0efa18e27daafbf23937e6ebcc86d0e6d17bb580d16a...  2021-12   \n",
       "2  0148f99ff00502a4ebfe6157d3a0eb211f054f9c1f7633...  2021-12   \n",
       "3  589a7682a70c4aac2ba684a41ec95b9ee0b184c8cdacb0...  2021-12   \n",
       "4  c0bd13de27933a91d6227fc5d985e1b97834c4eab1a6e6...  2021-12   \n",
       "\n",
       "             Reported by           Falls within  Longitude   Latitude  \\\n",
       "0  City of London Police  City of London Police        NaN        NaN   \n",
       "1  City of London Police  City of London Police        NaN        NaN   \n",
       "2  City of London Police  City of London Police        NaN        NaN   \n",
       "3  City of London Police  City of London Police        NaN        NaN   \n",
       "4  City of London Police  City of London Police   -0.08154  51.510806   \n",
       "\n",
       "                  Location  LSOA code            LSOA name  \\\n",
       "0              No location        NaN                  NaN   \n",
       "1              No location        NaN                  NaN   \n",
       "2              No location        NaN                  NaN   \n",
       "3              No location        NaN                  NaN   \n",
       "4  On or near MINCING LANE  E01032739  City of London 001F   \n",
       "\n",
       "                                    Outcome type  \n",
       "0                       Offender given a caution  \n",
       "1                                Suspect charged  \n",
       "2  Investigation complete; no suspect identified  \n",
       "3                    Unable to prosecute suspect  \n",
       "4                                Suspect charged  "
      ]
     },
     "execution_count": 7,
     "metadata": {},
     "output_type": "execute_result"
    }
   ],
   "source": [
    "outcome.head()"
   ]
  },
  {
   "cell_type": "code",
   "execution_count": 3,
   "metadata": {},
   "outputs": [
    {
     "data": {
      "text/html": [
       "<div>\n",
       "<style scoped>\n",
       "    .dataframe tbody tr th:only-of-type {\n",
       "        vertical-align: middle;\n",
       "    }\n",
       "\n",
       "    .dataframe tbody tr th {\n",
       "        vertical-align: top;\n",
       "    }\n",
       "\n",
       "    .dataframe thead th {\n",
       "        text-align: right;\n",
       "    }\n",
       "</style>\n",
       "<table border=\"1\" class=\"dataframe\">\n",
       "  <thead>\n",
       "    <tr style=\"text-align: right;\">\n",
       "      <th></th>\n",
       "      <th>Date</th>\n",
       "      <th>Police Officer Strength</th>\n",
       "      <th>Police Staff Strength</th>\n",
       "      <th>PCSO Strength</th>\n",
       "    </tr>\n",
       "  </thead>\n",
       "  <tbody>\n",
       "    <tr>\n",
       "      <th>0</th>\n",
       "      <td>May-13</td>\n",
       "      <td>30636</td>\n",
       "      <td>12702</td>\n",
       "      <td>2497</td>\n",
       "    </tr>\n",
       "    <tr>\n",
       "      <th>1</th>\n",
       "      <td>Jun-13</td>\n",
       "      <td>30550</td>\n",
       "      <td>12166</td>\n",
       "      <td>2487</td>\n",
       "    </tr>\n",
       "    <tr>\n",
       "      <th>2</th>\n",
       "      <td>Jul-13</td>\n",
       "      <td>30463</td>\n",
       "      <td>12149</td>\n",
       "      <td>2467</td>\n",
       "    </tr>\n",
       "    <tr>\n",
       "      <th>3</th>\n",
       "      <td>Aug-13</td>\n",
       "      <td>30360</td>\n",
       "      <td>12114</td>\n",
       "      <td>2450</td>\n",
       "    </tr>\n",
       "    <tr>\n",
       "      <th>4</th>\n",
       "      <td>Sep-13</td>\n",
       "      <td>30413</td>\n",
       "      <td>12113</td>\n",
       "      <td>2324</td>\n",
       "    </tr>\n",
       "  </tbody>\n",
       "</table>\n",
       "</div>"
      ],
      "text/plain": [
       "     Date  Police Officer Strength  Police Staff Strength  PCSO Strength\n",
       "0  May-13                    30636                  12702           2497\n",
       "1  Jun-13                    30550                  12166           2487\n",
       "2  Jul-13                    30463                  12149           2467\n",
       "3  Aug-13                    30360                  12114           2450\n",
       "4  Sep-13                    30413                  12113           2324"
      ]
     },
     "execution_count": 3,
     "metadata": {},
     "output_type": "execute_result"
    }
   ],
   "source": [
    "strength.head()"
   ]
  },
  {
   "cell_type": "code",
   "execution_count": 27,
   "metadata": {},
   "outputs": [
    {
     "data": {
      "text/plain": [
       "<AxesSubplot:xlabel='LSOA name'>"
      ]
     },
     "execution_count": 27,
     "metadata": {},
     "output_type": "execute_result"
    },
    {
     "data": {
      "image/png": "[encoded data removed]",
      "text/plain": [
       "<Figure size 432x288 with 1 Axes>"
      ]
     },
     "metadata": {
      "needs_background": "light"
     },
     "output_type": "display_data"
    }
   ],
   "source": [
    "publicorder[publicorder['Crime type'] == 'Anti-social behaviour'].value_counts('LSOA name').head(10).plot(kind='bar')\n",
    "plt.title('Distribution of Anti-social behaviour over LSOA name',weight='bold',size=14)"
   ]
  },
  {
   "cell_type": "code",
   "execution_count": 14,
   "metadata": {},
   "outputs": [
    {
     "data": {
      "text/plain": [
       "Text(0.5, 1.0, 'Distribution of public order over LSOA name')"
      ]
     },
     "execution_count": 14,
     "metadata": {},
     "output_type": "execute_result"
    },
    {
     "data": {
      "image/png": "[encoded data removed]",
      "text/plain": [
       "<Figure size 432x288 with 1 Axes>"
      ]
     },
     "metadata": {
      "needs_background": "light"
     },
     "output_type": "display_data"
    }
   ],
   "source": [
    "publicorder[publicorder['Crime type'] == 'Public order'].value_counts('LSOA name').head(10).plot(kind='bar')\n",
    "plt.title('Distribution of public order over LSOA name',weight='bold',size=14)"
   ]
  },
  {
   "cell_type": "code",
   "execution_count": 24,
   "metadata": {},
   "outputs": [
    {
     "data": {
      "text/plain": [
       "Crime type\n",
       "Violence and sexual offences    98\n",
       "Other theft                     54\n",
       "Anti-social behaviour           49\n",
       "Shoplifting                     43\n",
       "Theft from the person           36\n",
       "dtype: int64"
      ]
     },
     "execution_count": 24,
     "metadata": {},
     "output_type": "execute_result"
    }
   ],
   "source": [
    "data[data['LSOA name'] == 'City of London 001F'].value_counts('Crime type').head()"
   ]
  },
  {
   "cell_type": "code",
   "execution_count": 25,
   "metadata": {},
   "outputs": [
    {
     "data": {
      "text/plain": [
       "Crime type\n",
       "Theft from the person           25\n",
       "Other theft                     17\n",
       "Anti-social behaviour            9\n",
       "Violence and sexual offences     6\n",
       "Shoplifting                      6\n",
       "dtype: int64"
      ]
     },
     "execution_count": 25,
     "metadata": {},
     "output_type": "execute_result"
    }
   ],
   "source": [
    "data[data['LSOA name'] == 'City of London 001G'].value_counts('Crime type').head()"
   ]
  },
  {
   "cell_type": "code",
   "execution_count": null,
   "metadata": {},
   "outputs": [],
   "source": [
    "outcome"
   ]
  },
  {
   "cell_type": "code",
   "execution_count": null,
   "metadata": {},
   "outputs": [],
   "source": [
    "import folium\n",
    "\n",
    "cityoflondon001f = f\"./geojson/cityoflondon001f.json\"\n",
    "\n",
    "m = folium.Map(location=[51.509865, -0.118092], zoom_start=13)\n",
    "folium.TopoJson(\n",
    "    open('./geojson/cityoflondon001f.geojson'),\n",
    ").add_to(m)\n",
    "m"
   ]
  },
  {
   "cell_type": "code",
   "execution_count": null,
   "metadata": {},
   "outputs": [],
   "source": []
  }
 ],
 "metadata": {
  "kernelspec": {
   "display_name": "Python 3",
   "language": "python",
   "name": "python3"
  },
  "language_info": {
   "codemirror_mode": {
    "name": "ipython",
    "version": 3
   },
   "file_extension": ".py",
   "mimetype": "text/x-python",
   "name": "python",
   "nbconvert_exporter": "python",
   "pygments_lexer": "ipython3",
   "version": "3.7.9"
  }
 },
 "nbformat": 4,
 "nbformat_minor": 4
}
